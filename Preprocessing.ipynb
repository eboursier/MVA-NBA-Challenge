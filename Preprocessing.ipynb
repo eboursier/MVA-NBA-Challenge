{
 "cells": [
  {
   "cell_type": "code",
   "execution_count": 1,
   "metadata": {
    "collapsed": false
   },
   "outputs": [],
   "source": [
    "import numpy as np\n",
    "import pandas as pd\n",
    "%load_ext autoreload\n",
    "%autoreload 2\n",
    "\n",
    "import matplotlib.pyplot as plt\n",
    "\n",
    "from data_transform import *\n",
    "from plots import *"
   ]
  },
  {
   "cell_type": "code",
   "execution_count": 2,
   "metadata": {
    "collapsed": true
   },
   "outputs": [],
   "source": [
    "X_0 = pd.read_csv('./data/train.csv', nrows=100)"
   ]
  },
  {
   "cell_type": "code",
   "execution_count": 15,
   "metadata": {
    "collapsed": true
   },
   "outputs": [],
   "source": [
    "Y = pd.read_csv('./data/challenge_output_data_training_file_nba_challenge.csv', sep = ';',)"
   ]
  },
  {
   "cell_type": "markdown",
   "metadata": {},
   "source": [
    "## Multi-indexing"
   ]
  },
  {
   "cell_type": "code",
   "execution_count": 3,
   "metadata": {
    "collapsed": false
   },
   "outputs": [],
   "source": [
    "# building multi-index\n",
    "X_1 = X_0.drop('ID', 1)\n",
    "cols = X_1.columns.tolist()\n",
    "multi_index = [(c.split('_')[0], int(c.split('_')[1])) for c in cols]"
   ]
  },
  {
   "cell_type": "code",
   "execution_count": 4,
   "metadata": {
    "collapsed": true
   },
   "outputs": [],
   "source": [
    "index = pd.MultiIndex.from_tuples(multi_index)\n",
    "X = X_1.copy()\n",
    "X.columns = index"
   ]
  },
  {
   "cell_type": "code",
   "execution_count": 5,
   "metadata": {
    "collapsed": false
   },
   "outputs": [],
   "source": [
    "X_stacked = X.stack()\n",
    "X_stacked = X_stacked.drop('defensive foul', 1) # always equal to 0"
   ]
  },
  {
   "cell_type": "code",
   "execution_count": 6,
   "metadata": {
    "collapsed": false
   },
   "outputs": [],
   "source": [
    "N = X_1.shape[0]\n",
    "T = X_stacked.loc[0].shape[0]\n",
    "original_feats = X_stacked.columns.tolist()"
   ]
  },
  {
   "cell_type": "code",
   "execution_count": 7,
   "metadata": {
    "collapsed": false
   },
   "outputs": [],
   "source": [
    "# avoiding to consume too much memory\n",
    "del X_1\n",
    "del X"
   ]
  },
  {
   "cell_type": "code",
   "execution_count": 8,
   "metadata": {
    "collapsed": false
   },
   "outputs": [
    {
     "data": {
      "text/html": [
       "<div>\n",
       "<style>\n",
       "    .dataframe thead tr:only-child th {\n",
       "        text-align: right;\n",
       "    }\n",
       "\n",
       "    .dataframe thead th {\n",
       "        text-align: left;\n",
       "    }\n",
       "\n",
       "    .dataframe tbody tr th {\n",
       "        vertical-align: top;\n",
       "    }\n",
       "</style>\n",
       "<table border=\"1\" class=\"dataframe\">\n",
       "  <thead>\n",
       "    <tr style=\"text-align: right;\">\n",
       "      <th></th>\n",
       "      <th></th>\n",
       "      <th>assist</th>\n",
       "      <th>bad pass</th>\n",
       "      <th>block</th>\n",
       "      <th>defensive rebound</th>\n",
       "      <th>lost ball</th>\n",
       "      <th>miss</th>\n",
       "      <th>offensive foul</th>\n",
       "      <th>offensive rebound</th>\n",
       "      <th>score</th>\n",
       "      <th>steals</th>\n",
       "    </tr>\n",
       "  </thead>\n",
       "  <tbody>\n",
       "    <tr>\n",
       "      <th rowspan=\"3\" valign=\"top\">0</th>\n",
       "      <th>1</th>\n",
       "      <td>0</td>\n",
       "      <td>0</td>\n",
       "      <td>0</td>\n",
       "      <td>0</td>\n",
       "      <td>0</td>\n",
       "      <td>0</td>\n",
       "      <td>0</td>\n",
       "      <td>0</td>\n",
       "      <td>-2</td>\n",
       "      <td>0</td>\n",
       "    </tr>\n",
       "    <tr>\n",
       "      <th>2</th>\n",
       "      <td>0</td>\n",
       "      <td>0</td>\n",
       "      <td>0</td>\n",
       "      <td>0</td>\n",
       "      <td>0</td>\n",
       "      <td>0</td>\n",
       "      <td>0</td>\n",
       "      <td>0</td>\n",
       "      <td>-2</td>\n",
       "      <td>0</td>\n",
       "    </tr>\n",
       "    <tr>\n",
       "      <th>3</th>\n",
       "      <td>0</td>\n",
       "      <td>0</td>\n",
       "      <td>0</td>\n",
       "      <td>0</td>\n",
       "      <td>0</td>\n",
       "      <td>0</td>\n",
       "      <td>0</td>\n",
       "      <td>0</td>\n",
       "      <td>-2</td>\n",
       "      <td>0</td>\n",
       "    </tr>\n",
       "  </tbody>\n",
       "</table>\n",
       "</div>"
      ],
      "text/plain": [
       "     assist  bad pass  block  defensive rebound  lost ball  miss  \\\n",
       "0 1       0         0      0                  0          0     0   \n",
       "  2       0         0      0                  0          0     0   \n",
       "  3       0         0      0                  0          0     0   \n",
       "\n",
       "     offensive foul  offensive rebound  score  steals  \n",
       "0 1               0                  0     -2       0  \n",
       "  2               0                  0     -2       0  \n",
       "  3               0                  0     -2       0  "
      ]
     },
     "execution_count": 8,
     "metadata": {},
     "output_type": "execute_result"
    }
   ],
   "source": [
    "X_stacked.head(3)"
   ]
  },
  {
   "cell_type": "code",
   "execution_count": 9,
   "metadata": {
    "collapsed": false
   },
   "outputs": [
    {
     "data": {
      "text/plain": [
       "assist               0\n",
       "bad pass             0\n",
       "block                0\n",
       "defensive rebound    0\n",
       "lost ball            0\n",
       "miss                 0\n",
       "offensive foul       0\n",
       "offensive rebound    0\n",
       "score               -2\n",
       "steals               0\n",
       "Name: (3, 10), dtype: int64"
      ]
     },
     "execution_count": 9,
     "metadata": {},
     "output_type": "execute_result"
    }
   ],
   "source": [
    "X_stacked.loc[3, 10] # game 3, second 10"
   ]
  },
  {
   "cell_type": "markdown",
   "metadata": {},
   "source": [
    "# Getting stats back from differences\n",
    "\n",
    "We compute the instant features from each event, for instance ```score_inst[t]``` will be equal to ```score[t+1] - score[t]```"
   ]
  },
  {
   "cell_type": "code",
   "execution_count": 10,
   "metadata": {
    "collapsed": false
   },
   "outputs": [],
   "source": [
    "X_inst = compute_instant_stats(X_stacked, original_feats)"
   ]
  },
  {
   "cell_type": "code",
   "execution_count": 11,
   "metadata": {
    "collapsed": false
   },
   "outputs": [
    {
     "data": {
      "text/html": [
       "<div>\n",
       "<style>\n",
       "    .dataframe thead tr:only-child th {\n",
       "        text-align: right;\n",
       "    }\n",
       "\n",
       "    .dataframe thead th {\n",
       "        text-align: left;\n",
       "    }\n",
       "\n",
       "    .dataframe tbody tr th {\n",
       "        vertical-align: top;\n",
       "    }\n",
       "</style>\n",
       "<table border=\"1\" class=\"dataframe\">\n",
       "  <thead>\n",
       "    <tr style=\"text-align: right;\">\n",
       "      <th></th>\n",
       "      <th></th>\n",
       "      <th>assist</th>\n",
       "      <th>bad pass</th>\n",
       "      <th>block</th>\n",
       "      <th>defensive rebound</th>\n",
       "      <th>lost ball</th>\n",
       "      <th>miss</th>\n",
       "      <th>offensive foul</th>\n",
       "      <th>offensive rebound</th>\n",
       "      <th>score</th>\n",
       "      <th>steals</th>\n",
       "      <th>assist_inst</th>\n",
       "      <th>bad pass_inst</th>\n",
       "      <th>block_inst</th>\n",
       "      <th>defensive rebound_inst</th>\n",
       "      <th>lost ball_inst</th>\n",
       "      <th>miss_inst</th>\n",
       "      <th>offensive foul_inst</th>\n",
       "      <th>offensive rebound_inst</th>\n",
       "      <th>score_inst</th>\n",
       "      <th>steals_inst</th>\n",
       "    </tr>\n",
       "  </thead>\n",
       "  <tbody>\n",
       "    <tr>\n",
       "      <th rowspan=\"3\" valign=\"top\">0</th>\n",
       "      <th>1</th>\n",
       "      <td>0</td>\n",
       "      <td>0</td>\n",
       "      <td>0</td>\n",
       "      <td>0</td>\n",
       "      <td>0</td>\n",
       "      <td>0</td>\n",
       "      <td>0</td>\n",
       "      <td>0</td>\n",
       "      <td>-2</td>\n",
       "      <td>0</td>\n",
       "      <td>0</td>\n",
       "      <td>0</td>\n",
       "      <td>0</td>\n",
       "      <td>0</td>\n",
       "      <td>0</td>\n",
       "      <td>0</td>\n",
       "      <td>0</td>\n",
       "      <td>0</td>\n",
       "      <td>-2</td>\n",
       "      <td>0</td>\n",
       "    </tr>\n",
       "    <tr>\n",
       "      <th>2</th>\n",
       "      <td>0</td>\n",
       "      <td>0</td>\n",
       "      <td>0</td>\n",
       "      <td>0</td>\n",
       "      <td>0</td>\n",
       "      <td>0</td>\n",
       "      <td>0</td>\n",
       "      <td>0</td>\n",
       "      <td>-2</td>\n",
       "      <td>0</td>\n",
       "      <td>0</td>\n",
       "      <td>0</td>\n",
       "      <td>0</td>\n",
       "      <td>0</td>\n",
       "      <td>0</td>\n",
       "      <td>0</td>\n",
       "      <td>0</td>\n",
       "      <td>0</td>\n",
       "      <td>0</td>\n",
       "      <td>0</td>\n",
       "    </tr>\n",
       "    <tr>\n",
       "      <th>3</th>\n",
       "      <td>0</td>\n",
       "      <td>0</td>\n",
       "      <td>0</td>\n",
       "      <td>0</td>\n",
       "      <td>0</td>\n",
       "      <td>0</td>\n",
       "      <td>0</td>\n",
       "      <td>0</td>\n",
       "      <td>-2</td>\n",
       "      <td>0</td>\n",
       "      <td>0</td>\n",
       "      <td>0</td>\n",
       "      <td>0</td>\n",
       "      <td>0</td>\n",
       "      <td>0</td>\n",
       "      <td>0</td>\n",
       "      <td>0</td>\n",
       "      <td>0</td>\n",
       "      <td>0</td>\n",
       "      <td>0</td>\n",
       "    </tr>\n",
       "  </tbody>\n",
       "</table>\n",
       "</div>"
      ],
      "text/plain": [
       "     assist  bad pass  block  defensive rebound  lost ball  miss  \\\n",
       "0 1       0         0      0                  0          0     0   \n",
       "  2       0         0      0                  0          0     0   \n",
       "  3       0         0      0                  0          0     0   \n",
       "\n",
       "     offensive foul  offensive rebound  score  steals  assist_inst  \\\n",
       "0 1               0                  0     -2       0            0   \n",
       "  2               0                  0     -2       0            0   \n",
       "  3               0                  0     -2       0            0   \n",
       "\n",
       "     bad pass_inst  block_inst  defensive rebound_inst  lost ball_inst  \\\n",
       "0 1              0           0                       0               0   \n",
       "  2              0           0                       0               0   \n",
       "  3              0           0                       0               0   \n",
       "\n",
       "     miss_inst  offensive foul_inst  offensive rebound_inst  score_inst  \\\n",
       "0 1          0                    0                       0          -2   \n",
       "  2          0                    0                       0           0   \n",
       "  3          0                    0                       0           0   \n",
       "\n",
       "     steals_inst  \n",
       "0 1            0  \n",
       "  2            0  \n",
       "  3            0  "
      ]
     },
     "execution_count": 11,
     "metadata": {},
     "output_type": "execute_result"
    }
   ],
   "source": [
    "X_inst.head(3)"
   ]
  },
  {
   "cell_type": "markdown",
   "metadata": {},
   "source": [
    "# Cleaning data\n",
    "\n",
    "Removing games with less than 30 score changes (almost surely incomplete information):"
   ]
  },
  {
   "cell_type": "code",
   "execution_count": 12,
   "metadata": {
    "collapsed": false
   },
   "outputs": [
    {
     "data": {
      "image/png": "[encoded data removed]",
      "text/plain": [
       "<matplotlib.figure.Figure at 0x7f7a688e2550>"
      ]
     },
     "metadata": {},
     "output_type": "display_data"
    }
   ],
   "source": [
    "# remove games with too little data\n",
    "score_count = X_inst[X_inst['score_inst'] != 0].groupby(level = 0).count()['score']\n",
    "plt.hist(score_count, bins = 50)\n",
    "plt.title('Histogram of total score variation')\n",
    "plt.show()"
   ]
  },
  {
   "cell_type": "markdown",
   "metadata": {},
   "source": [
    "For instance, the following game clearly has to be removed:"
   ]
  },
  {
   "cell_type": "code",
   "execution_count": 20,
   "metadata": {
    "collapsed": false
   },
   "outputs": [
    {
     "data": {
      "image/png": "[encoded data removed]",
      "text/plain": [
       "<matplotlib.figure.Figure at 0x7f7a6886c160>"
      ]
     },
     "metadata": {},
     "output_type": "display_data"
    }
   ],
   "source": [
    "plot_game(X_inst, Y, 50, events = ['miss', 'offensive rebound'])#, 'assist', 'miss', 'lost ball'])"
   ]
  },
  {
   "cell_type": "code",
   "execution_count": 14,
   "metadata": {
    "collapsed": false
   },
   "outputs": [],
   "source": [
    "X_unstacked = X_inst.unstack()"
   ]
  },
  {
   "cell_type": "code",
   "execution_count": 26,
   "metadata": {
    "collapsed": false
   },
   "outputs": [],
   "source": [
    "X_unstacked['score_count'] = score_count\n",
    "X_unstacked = X_unstacked[X_unstacked['score_count'] > 30]"
   ]
  },
  {
   "cell_type": "code",
   "execution_count": 27,
   "metadata": {
    "collapsed": false
   },
   "outputs": [],
   "source": [
    "Y_new = Y.loc[X_unstacked.index.tolist()]"
   ]
  },
  {
   "cell_type": "markdown",
   "metadata": {},
   "source": [
    "**Now removing noise in score data:**\n",
    "\n",
    "Some games have a high variation in score (+13/-13 in less than two seconds) that has to be taken into account as noise and removed. The function ```denoise_scores()``` removes any variation in the score higher than a certain treshold."
   ]
  },
  {
   "cell_type": "code",
   "execution_count": 28,
   "metadata": {
    "collapsed": false
   },
   "outputs": [],
   "source": [
    "score_matrix = X_unstacked['score'].as_matrix()"
   ]
  },
  {
   "cell_type": "code",
   "execution_count": 29,
   "metadata": {
    "collapsed": false
   },
   "outputs": [
    {
     "name": "stdout",
     "output_type": "stream",
     "text": [
      "Processing row 0/12499\n",
      "Processing row 1000/12499\n",
      "Processing row 2000/12499\n",
      "Processing row 3000/12499\n",
      "Processing row 4000/12499\n",
      "Processing row 5000/12499\n",
      "Processing row 6000/12499\n",
      "Processing row 7000/12499\n",
      "Processing row 8000/12499\n",
      "Processing row 9000/12499\n",
      "Processing row 10000/12499\n",
      "Processing row 11000/12499\n",
      "Processing row 12000/12499\n"
     ]
    }
   ],
   "source": [
    "scores_denoised = denoise_scores(score_matrix, 5)"
   ]
  },
  {
   "cell_type": "code",
   "execution_count": 30,
   "metadata": {
    "collapsed": true
   },
   "outputs": [],
   "source": [
    "X_unstacked['score'] = scores_denoised"
   ]
  },
  {
   "cell_type": "code",
   "execution_count": null,
   "metadata": {
    "collapsed": false
   },
   "outputs": [],
   "source": [
    "X_denoised = X_unstacked.stack()"
   ]
  },
  {
   "cell_type": "code",
   "execution_count": 22,
   "metadata": {
    "collapsed": false
   },
   "outputs": [
    {
     "data": {
      "image/png": "[encoded data removed]",
      "text/plain": [
       "<matplotlib.figure.Figure at 0x7f5950c79ef0>"
      ]
     },
     "metadata": {},
     "output_type": "display_data"
    },
    {
     "data": {
      "image/png": "[encoded data removed]",
      "text/plain": [
       "<matplotlib.figure.Figure at 0x7f59509ffd30>"
      ]
     },
     "metadata": {},
     "output_type": "display_data"
    }
   ],
   "source": [
    "# before\n",
    "plot_game(X_inst, Y, 8, ['score'])\n",
    "\n",
    "# after\n",
    "plot_game(X_denoised, Y, 8, ['score'])"
   ]
  },
  {
   "cell_type": "code",
   "execution_count": 29,
   "metadata": {
    "collapsed": false
   },
   "outputs": [
    {
     "data": {
      "text/html": [
       "<div>\n",
       "<table border=\"1\" class=\"dataframe\">\n",
       "  <thead>\n",
       "    <tr>\n",
       "      <th></th>\n",
       "      <th colspan=\"10\" halign=\"left\">assist</th>\n",
       "      <th>...</th>\n",
       "      <th colspan=\"9\" halign=\"left\">steals_inst</th>\n",
       "      <th>score_count</th>\n",
       "    </tr>\n",
       "    <tr>\n",
       "      <th></th>\n",
       "      <th>1</th>\n",
       "      <th>2</th>\n",
       "      <th>3</th>\n",
       "      <th>4</th>\n",
       "      <th>5</th>\n",
       "      <th>6</th>\n",
       "      <th>7</th>\n",
       "      <th>8</th>\n",
       "      <th>9</th>\n",
       "      <th>10</th>\n",
       "      <th>...</th>\n",
       "      <th>1432</th>\n",
       "      <th>1433</th>\n",
       "      <th>1434</th>\n",
       "      <th>1435</th>\n",
       "      <th>1436</th>\n",
       "      <th>1437</th>\n",
       "      <th>1438</th>\n",
       "      <th>1439</th>\n",
       "      <th>1440</th>\n",
       "      <th></th>\n",
       "    </tr>\n",
       "  </thead>\n",
       "  <tbody>\n",
       "    <tr>\n",
       "      <th>0</th>\n",
       "      <td>0</td>\n",
       "      <td>0</td>\n",
       "      <td>0</td>\n",
       "      <td>0</td>\n",
       "      <td>0</td>\n",
       "      <td>0</td>\n",
       "      <td>0</td>\n",
       "      <td>0</td>\n",
       "      <td>0</td>\n",
       "      <td>0</td>\n",
       "      <td>...</td>\n",
       "      <td>0</td>\n",
       "      <td>0</td>\n",
       "      <td>0</td>\n",
       "      <td>0</td>\n",
       "      <td>0</td>\n",
       "      <td>0</td>\n",
       "      <td>0</td>\n",
       "      <td>0</td>\n",
       "      <td>0</td>\n",
       "      <td>45.0</td>\n",
       "    </tr>\n",
       "    <tr>\n",
       "      <th>1</th>\n",
       "      <td>0</td>\n",
       "      <td>0</td>\n",
       "      <td>0</td>\n",
       "      <td>0</td>\n",
       "      <td>0</td>\n",
       "      <td>0</td>\n",
       "      <td>0</td>\n",
       "      <td>0</td>\n",
       "      <td>0</td>\n",
       "      <td>0</td>\n",
       "      <td>...</td>\n",
       "      <td>0</td>\n",
       "      <td>0</td>\n",
       "      <td>0</td>\n",
       "      <td>0</td>\n",
       "      <td>0</td>\n",
       "      <td>0</td>\n",
       "      <td>0</td>\n",
       "      <td>0</td>\n",
       "      <td>0</td>\n",
       "      <td>50.0</td>\n",
       "    </tr>\n",
       "    <tr>\n",
       "      <th>2</th>\n",
       "      <td>0</td>\n",
       "      <td>0</td>\n",
       "      <td>0</td>\n",
       "      <td>0</td>\n",
       "      <td>0</td>\n",
       "      <td>0</td>\n",
       "      <td>0</td>\n",
       "      <td>0</td>\n",
       "      <td>0</td>\n",
       "      <td>0</td>\n",
       "      <td>...</td>\n",
       "      <td>0</td>\n",
       "      <td>0</td>\n",
       "      <td>0</td>\n",
       "      <td>0</td>\n",
       "      <td>0</td>\n",
       "      <td>1</td>\n",
       "      <td>0</td>\n",
       "      <td>0</td>\n",
       "      <td>0</td>\n",
       "      <td>48.0</td>\n",
       "    </tr>\n",
       "    <tr>\n",
       "      <th>3</th>\n",
       "      <td>0</td>\n",
       "      <td>0</td>\n",
       "      <td>0</td>\n",
       "      <td>0</td>\n",
       "      <td>0</td>\n",
       "      <td>0</td>\n",
       "      <td>0</td>\n",
       "      <td>0</td>\n",
       "      <td>0</td>\n",
       "      <td>0</td>\n",
       "      <td>...</td>\n",
       "      <td>0</td>\n",
       "      <td>0</td>\n",
       "      <td>0</td>\n",
       "      <td>0</td>\n",
       "      <td>0</td>\n",
       "      <td>0</td>\n",
       "      <td>0</td>\n",
       "      <td>0</td>\n",
       "      <td>0</td>\n",
       "      <td>51.0</td>\n",
       "    </tr>\n",
       "    <tr>\n",
       "      <th>4</th>\n",
       "      <td>0</td>\n",
       "      <td>0</td>\n",
       "      <td>0</td>\n",
       "      <td>0</td>\n",
       "      <td>0</td>\n",
       "      <td>0</td>\n",
       "      <td>0</td>\n",
       "      <td>0</td>\n",
       "      <td>0</td>\n",
       "      <td>0</td>\n",
       "      <td>...</td>\n",
       "      <td>0</td>\n",
       "      <td>0</td>\n",
       "      <td>0</td>\n",
       "      <td>0</td>\n",
       "      <td>0</td>\n",
       "      <td>-1</td>\n",
       "      <td>0</td>\n",
       "      <td>0</td>\n",
       "      <td>0</td>\n",
       "      <td>53.0</td>\n",
       "    </tr>\n",
       "  </tbody>\n",
       "</table>\n",
       "<p>5 rows × 28801 columns</p>\n",
       "</div>"
      ],
      "text/plain": [
       "  assist                                ...     steals_inst                 \\\n",
       "       1  2  3  4  5  6  7  8  9 10     ...            1432 1433 1434 1435   \n",
       "0      0  0  0  0  0  0  0  0  0  0     ...               0    0    0    0   \n",
       "1      0  0  0  0  0  0  0  0  0  0     ...               0    0    0    0   \n",
       "2      0  0  0  0  0  0  0  0  0  0     ...               0    0    0    0   \n",
       "3      0  0  0  0  0  0  0  0  0  0     ...               0    0    0    0   \n",
       "4      0  0  0  0  0  0  0  0  0  0     ...               0    0    0    0   \n",
       "\n",
       "                           score_count  \n",
       "  1436 1437 1438 1439 1440              \n",
       "0    0    0    0    0    0        45.0  \n",
       "1    0    0    0    0    0        50.0  \n",
       "2    0    1    0    0    0        48.0  \n",
       "3    0    0    0    0    0        51.0  \n",
       "4    0   -1    0    0    0        53.0  \n",
       "\n",
       "[5 rows x 28801 columns]"
      ]
     },
     "execution_count": 29,
     "metadata": {},
     "output_type": "execute_result"
    }
   ],
   "source": [
    "X_unstacked.head()"
   ]
  },
  {
   "cell_type": "code",
   "execution_count": 31,
   "metadata": {
    "collapsed": false
   },
   "outputs": [
    {
     "data": {
      "text/html": [
       "<div>\n",
       "<table border=\"1\" class=\"dataframe\">\n",
       "  <thead>\n",
       "    <tr style=\"text-align: right;\">\n",
       "      <th></th>\n",
       "      <th></th>\n",
       "      <th>assist</th>\n",
       "      <th>bad pass</th>\n",
       "      <th>block</th>\n",
       "      <th>defensive rebound</th>\n",
       "      <th>lost ball</th>\n",
       "      <th>miss</th>\n",
       "      <th>offensive foul</th>\n",
       "      <th>offensive rebound</th>\n",
       "      <th>score</th>\n",
       "      <th>steals</th>\n",
       "      <th>...</th>\n",
       "      <th>bad pass_inst</th>\n",
       "      <th>block_inst</th>\n",
       "      <th>defensive rebound_inst</th>\n",
       "      <th>lost ball_inst</th>\n",
       "      <th>miss_inst</th>\n",
       "      <th>offensive foul_inst</th>\n",
       "      <th>offensive rebound_inst</th>\n",
       "      <th>score_inst</th>\n",
       "      <th>steals_inst</th>\n",
       "      <th>score_count</th>\n",
       "    </tr>\n",
       "  </thead>\n",
       "  <tbody>\n",
       "    <tr>\n",
       "      <th rowspan=\"5\" valign=\"top\">0</th>\n",
       "      <th>1</th>\n",
       "      <td>0.0</td>\n",
       "      <td>0.0</td>\n",
       "      <td>0.0</td>\n",
       "      <td>0.0</td>\n",
       "      <td>0.0</td>\n",
       "      <td>0.0</td>\n",
       "      <td>0.0</td>\n",
       "      <td>0.0</td>\n",
       "      <td>-2.0</td>\n",
       "      <td>0.0</td>\n",
       "      <td>...</td>\n",
       "      <td>0.0</td>\n",
       "      <td>0.0</td>\n",
       "      <td>0.0</td>\n",
       "      <td>0.0</td>\n",
       "      <td>0.0</td>\n",
       "      <td>0.0</td>\n",
       "      <td>0.0</td>\n",
       "      <td>-2.0</td>\n",
       "      <td>0.0</td>\n",
       "      <td>NaN</td>\n",
       "    </tr>\n",
       "    <tr>\n",
       "      <th>2</th>\n",
       "      <td>0.0</td>\n",
       "      <td>0.0</td>\n",
       "      <td>0.0</td>\n",
       "      <td>0.0</td>\n",
       "      <td>0.0</td>\n",
       "      <td>0.0</td>\n",
       "      <td>0.0</td>\n",
       "      <td>0.0</td>\n",
       "      <td>-2.0</td>\n",
       "      <td>0.0</td>\n",
       "      <td>...</td>\n",
       "      <td>0.0</td>\n",
       "      <td>0.0</td>\n",
       "      <td>0.0</td>\n",
       "      <td>0.0</td>\n",
       "      <td>0.0</td>\n",
       "      <td>0.0</td>\n",
       "      <td>0.0</td>\n",
       "      <td>0.0</td>\n",
       "      <td>0.0</td>\n",
       "      <td>NaN</td>\n",
       "    </tr>\n",
       "    <tr>\n",
       "      <th>3</th>\n",
       "      <td>0.0</td>\n",
       "      <td>0.0</td>\n",
       "      <td>0.0</td>\n",
       "      <td>0.0</td>\n",
       "      <td>0.0</td>\n",
       "      <td>0.0</td>\n",
       "      <td>0.0</td>\n",
       "      <td>0.0</td>\n",
       "      <td>-2.0</td>\n",
       "      <td>0.0</td>\n",
       "      <td>...</td>\n",
       "      <td>0.0</td>\n",
       "      <td>0.0</td>\n",
       "      <td>0.0</td>\n",
       "      <td>0.0</td>\n",
       "      <td>0.0</td>\n",
       "      <td>0.0</td>\n",
       "      <td>0.0</td>\n",
       "      <td>0.0</td>\n",
       "      <td>0.0</td>\n",
       "      <td>NaN</td>\n",
       "    </tr>\n",
       "    <tr>\n",
       "      <th>4</th>\n",
       "      <td>0.0</td>\n",
       "      <td>0.0</td>\n",
       "      <td>0.0</td>\n",
       "      <td>0.0</td>\n",
       "      <td>0.0</td>\n",
       "      <td>0.0</td>\n",
       "      <td>0.0</td>\n",
       "      <td>0.0</td>\n",
       "      <td>-2.0</td>\n",
       "      <td>0.0</td>\n",
       "      <td>...</td>\n",
       "      <td>0.0</td>\n",
       "      <td>0.0</td>\n",
       "      <td>0.0</td>\n",
       "      <td>0.0</td>\n",
       "      <td>0.0</td>\n",
       "      <td>0.0</td>\n",
       "      <td>0.0</td>\n",
       "      <td>0.0</td>\n",
       "      <td>0.0</td>\n",
       "      <td>NaN</td>\n",
       "    </tr>\n",
       "    <tr>\n",
       "      <th>5</th>\n",
       "      <td>0.0</td>\n",
       "      <td>0.0</td>\n",
       "      <td>0.0</td>\n",
       "      <td>0.0</td>\n",
       "      <td>0.0</td>\n",
       "      <td>0.0</td>\n",
       "      <td>0.0</td>\n",
       "      <td>0.0</td>\n",
       "      <td>-2.0</td>\n",
       "      <td>0.0</td>\n",
       "      <td>...</td>\n",
       "      <td>0.0</td>\n",
       "      <td>0.0</td>\n",
       "      <td>0.0</td>\n",
       "      <td>0.0</td>\n",
       "      <td>0.0</td>\n",
       "      <td>0.0</td>\n",
       "      <td>0.0</td>\n",
       "      <td>0.0</td>\n",
       "      <td>0.0</td>\n",
       "      <td>NaN</td>\n",
       "    </tr>\n",
       "  </tbody>\n",
       "</table>\n",
       "<p>5 rows × 21 columns</p>\n",
       "</div>"
      ],
      "text/plain": [
       "     assist  bad pass  block  defensive rebound  lost ball  miss  \\\n",
       "0 1     0.0       0.0    0.0                0.0        0.0   0.0   \n",
       "  2     0.0       0.0    0.0                0.0        0.0   0.0   \n",
       "  3     0.0       0.0    0.0                0.0        0.0   0.0   \n",
       "  4     0.0       0.0    0.0                0.0        0.0   0.0   \n",
       "  5     0.0       0.0    0.0                0.0        0.0   0.0   \n",
       "\n",
       "     offensive foul  offensive rebound  score  steals     ...       \\\n",
       "0 1             0.0                0.0   -2.0     0.0     ...        \n",
       "  2             0.0                0.0   -2.0     0.0     ...        \n",
       "  3             0.0                0.0   -2.0     0.0     ...        \n",
       "  4             0.0                0.0   -2.0     0.0     ...        \n",
       "  5             0.0                0.0   -2.0     0.0     ...        \n",
       "\n",
       "     bad pass_inst  block_inst  defensive rebound_inst  lost ball_inst  \\\n",
       "0 1            0.0         0.0                     0.0             0.0   \n",
       "  2            0.0         0.0                     0.0             0.0   \n",
       "  3            0.0         0.0                     0.0             0.0   \n",
       "  4            0.0         0.0                     0.0             0.0   \n",
       "  5            0.0         0.0                     0.0             0.0   \n",
       "\n",
       "     miss_inst  offensive foul_inst  offensive rebound_inst  score_inst  \\\n",
       "0 1        0.0                  0.0                     0.0        -2.0   \n",
       "  2        0.0                  0.0                     0.0         0.0   \n",
       "  3        0.0                  0.0                     0.0         0.0   \n",
       "  4        0.0                  0.0                     0.0         0.0   \n",
       "  5        0.0                  0.0                     0.0         0.0   \n",
       "\n",
       "     steals_inst  score_count  \n",
       "0 1          0.0          NaN  \n",
       "  2          0.0          NaN  \n",
       "  3          0.0          NaN  \n",
       "  4          0.0          NaN  \n",
       "  5          0.0          NaN  \n",
       "\n",
       "[5 rows x 21 columns]"
      ]
     },
     "execution_count": 31,
     "metadata": {},
     "output_type": "execute_result"
    }
   ],
   "source": [
    "X_denoised.head()"
   ]
  },
  {
   "cell_type": "code",
   "execution_count": 33,
   "metadata": {
    "collapsed": false
   },
   "outputs": [
    {
     "data": {
      "text/html": [
       "<div>\n",
       "<table border=\"1\" class=\"dataframe\">\n",
       "  <thead>\n",
       "    <tr style=\"text-align: right;\">\n",
       "      <th></th>\n",
       "      <th>ID</th>\n",
       "      <th>label</th>\n",
       "    </tr>\n",
       "  </thead>\n",
       "  <tbody>\n",
       "    <tr>\n",
       "      <th>0</th>\n",
       "      <td>14186</td>\n",
       "      <td>0</td>\n",
       "    </tr>\n",
       "    <tr>\n",
       "      <th>1</th>\n",
       "      <td>13013</td>\n",
       "      <td>0</td>\n",
       "    </tr>\n",
       "    <tr>\n",
       "      <th>2</th>\n",
       "      <td>7102</td>\n",
       "      <td>0</td>\n",
       "    </tr>\n",
       "    <tr>\n",
       "      <th>3</th>\n",
       "      <td>7637</td>\n",
       "      <td>1</td>\n",
       "    </tr>\n",
       "    <tr>\n",
       "      <th>4</th>\n",
       "      <td>12350</td>\n",
       "      <td>0</td>\n",
       "    </tr>\n",
       "  </tbody>\n",
       "</table>\n",
       "</div>"
      ],
      "text/plain": [
       "      ID  label\n",
       "0  14186      0\n",
       "1  13013      0\n",
       "2   7102      0\n",
       "3   7637      1\n",
       "4  12350      0"
      ]
     },
     "execution_count": 33,
     "metadata": {},
     "output_type": "execute_result"
    }
   ],
   "source": [
    "Y_new.head()"
   ]
  },
  {
   "cell_type": "markdown",
   "metadata": {},
   "source": [
    "## Computing basic features\n",
    "\n",
    "### 1. Aggregating totals"
   ]
  },
  {
   "cell_type": "code",
   "execution_count": 34,
   "metadata": {
    "collapsed": true
   },
   "outputs": [],
   "source": [
    "X_feats = pd.DataFrame(index = X_unstacked.index)"
   ]
  },
  {
   "cell_type": "code",
   "execution_count": 35,
   "metadata": {
    "collapsed": true
   },
   "outputs": [],
   "source": [
    "def compute_total(df_time, df_feats, play):\n",
    "    \"\"\"computes the total number of a given play for each team. \n",
    "    Args\n",
    "        df_time: the dataframe with the play-by-play instant values\n",
    "        df_feats: the target dataframe where to store the total\n",
    "        play: name of play to sum, such as 'score', 'steals'..\n",
    "    Returns\n",
    "        df_completed: the dataframe df_feats with two additional columns\n",
    "            corresponding to the total of plays for each team. For instance,\n",
    "            if play = 'score', then df_completed will have two columns \n",
    "            'score_total_visitor' and 'score_total_home' with the total score of\n",
    "            the visiting and home team\n",
    "    \"\"\"\n",
    "    \n",
    "    visitor = np.maximum(df_time[play + '_inst'], 0).cumsum(level = [0])\n",
    "    df_feats[play + '_total_visitor'] = visitor\n",
    "    \n",
    "    home = np.maximum(- df_time[play + '_inst'], 0).cumsum(level = [0])\n",
    "    df_feats[play + '_total_home'] = home\n",
    "    \n",
    "    return df_feats"
   ]
  },
  {
   "cell_type": "code",
   "execution_count": 37,
   "metadata": {
    "collapsed": false
   },
   "outputs": [],
   "source": [
    "for play in original_feats:\n",
    "    X_feats = compute_total(X_denoised, X_feats, play)"
   ]
  },
  {
   "cell_type": "code",
   "execution_count": 39,
   "metadata": {
    "collapsed": false
   },
   "outputs": [
    {
     "data": {
      "text/html": [
       "<div>\n",
       "<table border=\"1\" class=\"dataframe\">\n",
       "  <thead>\n",
       "    <tr style=\"text-align: right;\">\n",
       "      <th></th>\n",
       "      <th>assist_total_visitor</th>\n",
       "      <th>assist_total_home</th>\n",
       "      <th>bad pass_total_visitor</th>\n",
       "      <th>bad pass_total_home</th>\n",
       "      <th>block_total_visitor</th>\n",
       "      <th>block_total_home</th>\n",
       "      <th>defensive rebound_total_visitor</th>\n",
       "      <th>defensive rebound_total_home</th>\n",
       "      <th>lost ball_total_visitor</th>\n",
       "      <th>lost ball_total_home</th>\n",
       "      <th>miss_total_visitor</th>\n",
       "      <th>miss_total_home</th>\n",
       "      <th>offensive foul_total_visitor</th>\n",
       "      <th>offensive foul_total_home</th>\n",
       "      <th>offensive rebound_total_visitor</th>\n",
       "      <th>offensive rebound_total_home</th>\n",
       "      <th>score_total_visitor</th>\n",
       "      <th>score_total_home</th>\n",
       "      <th>steals_total_visitor</th>\n",
       "      <th>steals_total_home</th>\n",
       "    </tr>\n",
       "  </thead>\n",
       "  <tbody>\n",
       "    <tr>\n",
       "      <th>0</th>\n",
       "      <td>8.0</td>\n",
       "      <td>11.0</td>\n",
       "      <td>1.0</td>\n",
       "      <td>3.0</td>\n",
       "      <td>3.0</td>\n",
       "      <td>2.0</td>\n",
       "      <td>15.0</td>\n",
       "      <td>19.0</td>\n",
       "      <td>6.0</td>\n",
       "      <td>3.0</td>\n",
       "      <td>30.0</td>\n",
       "      <td>21.0</td>\n",
       "      <td>2.0</td>\n",
       "      <td>0.0</td>\n",
       "      <td>9.0</td>\n",
       "      <td>1.0</td>\n",
       "      <td>41.0</td>\n",
       "      <td>54.0</td>\n",
       "      <td>5.0</td>\n",
       "      <td>2.0</td>\n",
       "    </tr>\n",
       "    <tr>\n",
       "      <th>1</th>\n",
       "      <td>13.0</td>\n",
       "      <td>12.0</td>\n",
       "      <td>4.0</td>\n",
       "      <td>3.0</td>\n",
       "      <td>2.0</td>\n",
       "      <td>4.0</td>\n",
       "      <td>17.0</td>\n",
       "      <td>12.0</td>\n",
       "      <td>2.0</td>\n",
       "      <td>2.0</td>\n",
       "      <td>22.0</td>\n",
       "      <td>23.0</td>\n",
       "      <td>0.0</td>\n",
       "      <td>0.0</td>\n",
       "      <td>7.0</td>\n",
       "      <td>6.0</td>\n",
       "      <td>49.0</td>\n",
       "      <td>54.0</td>\n",
       "      <td>5.0</td>\n",
       "      <td>5.0</td>\n",
       "    </tr>\n",
       "    <tr>\n",
       "      <th>2</th>\n",
       "      <td>9.0</td>\n",
       "      <td>9.0</td>\n",
       "      <td>3.0</td>\n",
       "      <td>5.0</td>\n",
       "      <td>3.0</td>\n",
       "      <td>0.0</td>\n",
       "      <td>13.0</td>\n",
       "      <td>18.0</td>\n",
       "      <td>5.0</td>\n",
       "      <td>0.0</td>\n",
       "      <td>16.0</td>\n",
       "      <td>21.0</td>\n",
       "      <td>0.0</td>\n",
       "      <td>5.0</td>\n",
       "      <td>4.0</td>\n",
       "      <td>5.0</td>\n",
       "      <td>55.0</td>\n",
       "      <td>50.0</td>\n",
       "      <td>7.0</td>\n",
       "      <td>2.0</td>\n",
       "    </tr>\n",
       "  </tbody>\n",
       "</table>\n",
       "</div>"
      ],
      "text/plain": [
       "   assist_total_visitor  assist_total_home  bad pass_total_visitor  \\\n",
       "0                   8.0               11.0                     1.0   \n",
       "1                  13.0               12.0                     4.0   \n",
       "2                   9.0                9.0                     3.0   \n",
       "\n",
       "   bad pass_total_home  block_total_visitor  block_total_home  \\\n",
       "0                  3.0                  3.0               2.0   \n",
       "1                  3.0                  2.0               4.0   \n",
       "2                  5.0                  3.0               0.0   \n",
       "\n",
       "   defensive rebound_total_visitor  defensive rebound_total_home  \\\n",
       "0                             15.0                          19.0   \n",
       "1                             17.0                          12.0   \n",
       "2                             13.0                          18.0   \n",
       "\n",
       "   lost ball_total_visitor  lost ball_total_home  miss_total_visitor  \\\n",
       "0                      6.0                   3.0                30.0   \n",
       "1                      2.0                   2.0                22.0   \n",
       "2                      5.0                   0.0                16.0   \n",
       "\n",
       "   miss_total_home  offensive foul_total_visitor  offensive foul_total_home  \\\n",
       "0             21.0                           2.0                        0.0   \n",
       "1             23.0                           0.0                        0.0   \n",
       "2             21.0                           0.0                        5.0   \n",
       "\n",
       "   offensive rebound_total_visitor  offensive rebound_total_home  \\\n",
       "0                              9.0                           1.0   \n",
       "1                              7.0                           6.0   \n",
       "2                              4.0                           5.0   \n",
       "\n",
       "   score_total_visitor  score_total_home  steals_total_visitor  \\\n",
       "0                 41.0              54.0                   5.0   \n",
       "1                 49.0              54.0                   5.0   \n",
       "2                 55.0              50.0                   7.0   \n",
       "\n",
       "   steals_total_home  \n",
       "0                2.0  \n",
       "1                5.0  \n",
       "2                2.0  "
      ]
     },
     "execution_count": 39,
     "metadata": {},
     "output_type": "execute_result"
    }
   ],
   "source": [
    "X_feats.head(3)"
   ]
  },
  {
   "cell_type": "markdown",
   "metadata": {},
   "source": [
    "### 2. Basic features"
   ]
  },
  {
   "cell_type": "code",
   "execution_count": 40,
   "metadata": {
    "collapsed": false
   },
   "outputs": [],
   "source": [
    "## REBOUNDS\n",
    "\n",
    "X_feats['all_rebounds_visitor'] = X_feats['offensive rebound_total_visitor'] \\\n",
    "    + X_feats['defensive rebound_total_visitor']\n",
    "\n",
    "X_feats['all_rebounds_home'] = X_feats['offensive rebound_total_home'] \\\n",
    "    + X_feats['defensive rebound_total_home']\n",
    "\n",
    "X_feats['total_rebounds'] = X_feats['all_rebounds_home'] + X_feats['all_rebounds_visitor']\n",
    "\n",
    "# rebound ratio\n",
    "for team in ['visitor', 'home']:\n",
    "    X_feats['rebound_ratio_' + team] = X_feats['all_rebounds_' + team] \\\n",
    "        / X_feats['total_rebounds']"
   ]
  },
  {
   "cell_type": "code",
   "execution_count": 21,
   "metadata": {
    "collapsed": false
   },
   "outputs": [],
   "source": [
    "## NUMBER OF BASKETS\n"
   ]
  },
  {
   "cell_type": "code",
   "execution_count": 307,
   "metadata": {
    "collapsed": false
   },
   "outputs": [],
   "source": [
    "## PASSES\n",
    "# ratio assist to baskets ?"
   ]
  }
 ],
 "metadata": {
  "kernelspec": {
   "display_name": "Python 3",
   "language": "python",
   "name": "python3"
  },
  "language_info": {
   "codemirror_mode": {
    "name": "ipython",
    "version": 3
   },
   "file_extension": ".py",
   "mimetype": "text/x-python",
   "name": "python",
   "nbconvert_exporter": "python",
   "pygments_lexer": "ipython3",
   "version": "3.6.1"
  }
 },
 "nbformat": 4,
 "nbformat_minor": 2
}
