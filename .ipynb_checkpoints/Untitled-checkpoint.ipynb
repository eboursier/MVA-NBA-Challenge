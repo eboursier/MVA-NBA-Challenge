{
 "cells": [
  {
   "cell_type": "code",
   "execution_count": 15,
   "metadata": {},
   "outputs": [],
   "source": [
    "import pandas as pd\n",
    "import numpy as np\n",
    "from plots import *\n",
    "import matplotlib.pyplot as plt"
   ]
  },
  {
   "cell_type": "code",
   "execution_count": 16,
   "metadata": {},
   "outputs": [],
   "source": [
    "X_0 = pd.read_csv('./data/train_clean.csv', nrows=10, index_col=0, skiprows=[1, 2])"
   ]
  },
  {
   "cell_type": "code",
   "execution_count": 17,
   "metadata": {},
   "outputs": [
    {
     "data": {
      "text/html": [
       "<div>\n",
       "<style>\n",
       "    .dataframe thead tr:only-child th {\n",
       "        text-align: right;\n",
       "    }\n",
       "\n",
       "    .dataframe thead th {\n",
       "        text-align: left;\n",
       "    }\n",
       "\n",
       "    .dataframe tbody tr th {\n",
       "        vertical-align: top;\n",
       "    }\n",
       "</style>\n",
       "<table border=\"1\" class=\"dataframe\">\n",
       "  <thead>\n",
       "    <tr style=\"text-align: right;\">\n",
       "      <th></th>\n",
       "      <th>assist</th>\n",
       "      <th>assist.1</th>\n",
       "      <th>assist.2</th>\n",
       "      <th>assist.3</th>\n",
       "      <th>assist.4</th>\n",
       "      <th>assist.5</th>\n",
       "      <th>assist.6</th>\n",
       "      <th>assist.7</th>\n",
       "      <th>assist.8</th>\n",
       "      <th>assist.9</th>\n",
       "      <th>...</th>\n",
       "      <th>steals_inst.1430</th>\n",
       "      <th>steals_inst.1431</th>\n",
       "      <th>steals_inst.1432</th>\n",
       "      <th>steals_inst.1433</th>\n",
       "      <th>steals_inst.1434</th>\n",
       "      <th>steals_inst.1435</th>\n",
       "      <th>steals_inst.1436</th>\n",
       "      <th>steals_inst.1437</th>\n",
       "      <th>steals_inst.1438</th>\n",
       "      <th>steals_inst.1439</th>\n",
       "    </tr>\n",
       "  </thead>\n",
       "  <tbody>\n",
       "    <tr>\n",
       "      <th>14186</th>\n",
       "      <td>0</td>\n",
       "      <td>0</td>\n",
       "      <td>0</td>\n",
       "      <td>0</td>\n",
       "      <td>0</td>\n",
       "      <td>0</td>\n",
       "      <td>0</td>\n",
       "      <td>0</td>\n",
       "      <td>0</td>\n",
       "      <td>0</td>\n",
       "      <td>...</td>\n",
       "      <td>0</td>\n",
       "      <td>0</td>\n",
       "      <td>0</td>\n",
       "      <td>0</td>\n",
       "      <td>0</td>\n",
       "      <td>0</td>\n",
       "      <td>0</td>\n",
       "      <td>0</td>\n",
       "      <td>0</td>\n",
       "      <td>0</td>\n",
       "    </tr>\n",
       "    <tr>\n",
       "      <th>13013</th>\n",
       "      <td>0</td>\n",
       "      <td>0</td>\n",
       "      <td>0</td>\n",
       "      <td>0</td>\n",
       "      <td>0</td>\n",
       "      <td>0</td>\n",
       "      <td>0</td>\n",
       "      <td>0</td>\n",
       "      <td>0</td>\n",
       "      <td>0</td>\n",
       "      <td>...</td>\n",
       "      <td>0</td>\n",
       "      <td>0</td>\n",
       "      <td>0</td>\n",
       "      <td>0</td>\n",
       "      <td>0</td>\n",
       "      <td>0</td>\n",
       "      <td>0</td>\n",
       "      <td>0</td>\n",
       "      <td>0</td>\n",
       "      <td>0</td>\n",
       "    </tr>\n",
       "    <tr>\n",
       "      <th>7102</th>\n",
       "      <td>0</td>\n",
       "      <td>0</td>\n",
       "      <td>0</td>\n",
       "      <td>0</td>\n",
       "      <td>0</td>\n",
       "      <td>0</td>\n",
       "      <td>0</td>\n",
       "      <td>0</td>\n",
       "      <td>0</td>\n",
       "      <td>0</td>\n",
       "      <td>...</td>\n",
       "      <td>0</td>\n",
       "      <td>0</td>\n",
       "      <td>0</td>\n",
       "      <td>0</td>\n",
       "      <td>0</td>\n",
       "      <td>0</td>\n",
       "      <td>1</td>\n",
       "      <td>0</td>\n",
       "      <td>0</td>\n",
       "      <td>0</td>\n",
       "    </tr>\n",
       "    <tr>\n",
       "      <th>7637</th>\n",
       "      <td>0</td>\n",
       "      <td>0</td>\n",
       "      <td>0</td>\n",
       "      <td>0</td>\n",
       "      <td>0</td>\n",
       "      <td>0</td>\n",
       "      <td>0</td>\n",
       "      <td>0</td>\n",
       "      <td>0</td>\n",
       "      <td>0</td>\n",
       "      <td>...</td>\n",
       "      <td>0</td>\n",
       "      <td>0</td>\n",
       "      <td>0</td>\n",
       "      <td>0</td>\n",
       "      <td>0</td>\n",
       "      <td>0</td>\n",
       "      <td>0</td>\n",
       "      <td>0</td>\n",
       "      <td>0</td>\n",
       "      <td>0</td>\n",
       "    </tr>\n",
       "    <tr>\n",
       "      <th>12350</th>\n",
       "      <td>0</td>\n",
       "      <td>0</td>\n",
       "      <td>0</td>\n",
       "      <td>0</td>\n",
       "      <td>0</td>\n",
       "      <td>0</td>\n",
       "      <td>0</td>\n",
       "      <td>0</td>\n",
       "      <td>0</td>\n",
       "      <td>0</td>\n",
       "      <td>...</td>\n",
       "      <td>0</td>\n",
       "      <td>0</td>\n",
       "      <td>0</td>\n",
       "      <td>0</td>\n",
       "      <td>0</td>\n",
       "      <td>0</td>\n",
       "      <td>-1</td>\n",
       "      <td>0</td>\n",
       "      <td>0</td>\n",
       "      <td>0</td>\n",
       "    </tr>\n",
       "  </tbody>\n",
       "</table>\n",
       "<p>5 rows × 28800 columns</p>\n",
       "</div>"
      ],
      "text/plain": [
       "       assist  assist.1  assist.2  assist.3  assist.4  assist.5  assist.6  \\\n",
       "14186       0         0         0         0         0         0         0   \n",
       "13013       0         0         0         0         0         0         0   \n",
       "7102        0         0         0         0         0         0         0   \n",
       "7637        0         0         0         0         0         0         0   \n",
       "12350       0         0         0         0         0         0         0   \n",
       "\n",
       "       assist.7  assist.8  assist.9        ...         steals_inst.1430  \\\n",
       "14186         0         0         0        ...                        0   \n",
       "13013         0         0         0        ...                        0   \n",
       "7102          0         0         0        ...                        0   \n",
       "7637          0         0         0        ...                        0   \n",
       "12350         0         0         0        ...                        0   \n",
       "\n",
       "       steals_inst.1431  steals_inst.1432  steals_inst.1433  steals_inst.1434  \\\n",
       "14186                 0                 0                 0                 0   \n",
       "13013                 0                 0                 0                 0   \n",
       "7102                  0                 0                 0                 0   \n",
       "7637                  0                 0                 0                 0   \n",
       "12350                 0                 0                 0                 0   \n",
       "\n",
       "       steals_inst.1435  steals_inst.1436  steals_inst.1437  steals_inst.1438  \\\n",
       "14186                 0                 0                 0                 0   \n",
       "13013                 0                 0                 0                 0   \n",
       "7102                  0                 1                 0                 0   \n",
       "7637                  0                 0                 0                 0   \n",
       "12350                 0                -1                 0                 0   \n",
       "\n",
       "       steals_inst.1439  \n",
       "14186                 0  \n",
       "13013                 0  \n",
       "7102                  0  \n",
       "7637                  0  \n",
       "12350                 0  \n",
       "\n",
       "[5 rows x 28800 columns]"
      ]
     },
     "execution_count": 17,
     "metadata": {},
     "output_type": "execute_result"
    }
   ],
   "source": [
    "X_0.head()"
   ]
  },
  {
   "cell_type": "code",
   "execution_count": 18,
   "metadata": {},
   "outputs": [],
   "source": [
    "Y = pd.read_csv('./data/train_label_clean.csv', sep=\",\", index_col=0, nrows=10)"
   ]
  },
  {
   "cell_type": "code",
   "execution_count": 19,
   "metadata": {},
   "outputs": [
    {
     "data": {
      "text/html": [
       "<div>\n",
       "<style>\n",
       "    .dataframe thead tr:only-child th {\n",
       "        text-align: right;\n",
       "    }\n",
       "\n",
       "    .dataframe thead th {\n",
       "        text-align: left;\n",
       "    }\n",
       "\n",
       "    .dataframe tbody tr th {\n",
       "        vertical-align: top;\n",
       "    }\n",
       "</style>\n",
       "<table border=\"1\" class=\"dataframe\">\n",
       "  <thead>\n",
       "    <tr style=\"text-align: right;\">\n",
       "      <th></th>\n",
       "      <th>label</th>\n",
       "    </tr>\n",
       "    <tr>\n",
       "      <th>ID</th>\n",
       "      <th></th>\n",
       "    </tr>\n",
       "  </thead>\n",
       "  <tbody>\n",
       "    <tr>\n",
       "      <th>14186</th>\n",
       "      <td>0</td>\n",
       "    </tr>\n",
       "    <tr>\n",
       "      <th>13013</th>\n",
       "      <td>0</td>\n",
       "    </tr>\n",
       "    <tr>\n",
       "      <th>7102</th>\n",
       "      <td>0</td>\n",
       "    </tr>\n",
       "    <tr>\n",
       "      <th>7637</th>\n",
       "      <td>1</td>\n",
       "    </tr>\n",
       "    <tr>\n",
       "      <th>12350</th>\n",
       "      <td>0</td>\n",
       "    </tr>\n",
       "  </tbody>\n",
       "</table>\n",
       "</div>"
      ],
      "text/plain": [
       "       label\n",
       "ID          \n",
       "14186      0\n",
       "13013      0\n",
       "7102       0\n",
       "7637       1\n",
       "12350      0"
      ]
     },
     "execution_count": 19,
     "metadata": {},
     "output_type": "execute_result"
    }
   ],
   "source": [
    "Y.head()"
   ]
  },
  {
   "cell_type": "code",
   "execution_count": 20,
   "metadata": {},
   "outputs": [
    {
     "data": {
      "text/plain": [
       "['assist',\n",
       " 'bad pass',\n",
       " 'block',\n",
       " 'defensive rebound',\n",
       " 'lost ball',\n",
       " 'miss',\n",
       " 'offensive foul',\n",
       " 'offensive rebound',\n",
       " 'score',\n",
       " 'steals',\n",
       " 'assist_inst',\n",
       " 'bad pass_inst',\n",
       " 'block_inst',\n",
       " 'defensive rebound_inst',\n",
       " 'lost ball_inst',\n",
       " 'miss_inst',\n",
       " 'offensive foul_inst',\n",
       " 'offensive rebound_inst',\n",
       " 'score_inst',\n",
       " 'steals_inst']"
      ]
     },
     "execution_count": 20,
     "metadata": {},
     "output_type": "execute_result"
    }
   ],
   "source": [
    "stats"
   ]
  },
  {
   "cell_type": "code",
   "execution_count": 151,
   "metadata": {},
   "outputs": [],
   "source": [
    "possession_guest = (X[:, :, stats.index('offensive rebound_inst')]>0) | (X[:, :, stats.index('defensive rebound_inst')]>0) | (X[:, :, stats.index('steals_inst')]>0)\n",
    "possession_guest = possession_guest | (X[:, :, stats.index('lost ball_inst')]>0) | (X[:, :, stats.index('offensive foul_inst')]<0)\n",
    "# case of score change without any offensive rebound of the opposite team\n",
    "possession_guest = possession_guest | ((X[:, :, stats.index('score_inst')]<0) & (X[:, :, stats.index('offensive rebound_inst')]>=0))\n",
    "possession_guest = possession_guest.astype(int)\n",
    "\n",
    "possession_home = (-X[:, :, stats.index('offensive rebound_inst')]>0) | (-X[:, :, stats.index('defensive rebound_inst')]>0) | (-X[:, :, stats.index('steals_inst')]>0)\n",
    "possession_home = possession_home | (-X[:, :, stats.index('lost ball_inst')]>0) | (-X[:, :, stats.index('offensive foul_inst')]<0)\n",
    "# case of score change without any offensive rebound of the opposite team\n",
    "possession_home = possession_home | ((-X[:, :, stats.index('score_inst')]<0) & (-X[:, :, stats.index('offensive rebound_inst')]>=0))\n",
    "possession_home = possession_home.astype(int)"
   ]
  },
  {
   "cell_type": "code",
   "execution_count": 152,
   "metadata": {},
   "outputs": [],
   "source": [
    "possessions = possession_guest - possession_home\n",
    "del possession_home, possession_guest"
   ]
  },
  {
   "cell_type": "code",
   "execution_count": 153,
   "metadata": {},
   "outputs": [],
   "source": [
    "secs = np.arange(1, 1441)\n",
    "poss = possessions*secs"
   ]
  },
  {
   "cell_type": "code",
   "execution_count": 160,
   "metadata": {},
   "outputs": [
    {
     "name": "stdout",
     "output_type": "stream",
     "text": [
      "Processing row 0/10\n"
     ]
    }
   ],
   "source": [
    "average_poss_guest, average_poss_home = compute_average_possessions(poss)"
   ]
  },
  {
   "cell_type": "code",
   "execution_count": null,
   "metadata": {},
   "outputs": [],
   "source": [
    "game = 0"
   ]
  },
  {
   "cell_type": "code",
   "execution_count": 164,
   "metadata": {},
   "outputs": [
    {
     "data": {
      "image/png": "[encoded data removed]",
      "text/plain": [
       "<matplotlib.figure.Figure at 0x7fb13bcb1940>"
      ]
     },
     "metadata": {},
     "output_type": "display_data"
    }
   ],
   "source": [
    "plt.plot(average_poss_guest[game])\n",
    "plt.show()"
   ]
  },
  {
   "cell_type": "code",
   "execution_count": 165,
   "metadata": {},
   "outputs": [
    {
     "data": {
      "image/png": "[encoded data removed]",
      "text/plain": [
       "<matplotlib.figure.Figure at 0x7fb13bdfc4e0>"
      ]
     },
     "metadata": {},
     "output_type": "display_data"
    }
   ],
   "source": [
    "plt.plot(average_poss_home[game])\n",
    "plt.show()"
   ]
  },
  {
   "cell_type": "code",
   "execution_count": null,
   "metadata": {},
   "outputs": [],
   "source": []
  }
 ],
 "metadata": {
  "kernelspec": {
   "display_name": "Python 3",
   "language": "python",
   "name": "python3"
  },
  "language_info": {
   "codemirror_mode": {
    "name": "ipython",
    "version": 3
   },
   "file_extension": ".py",
   "mimetype": "text/x-python",
   "name": "python",
   "nbconvert_exporter": "python",
   "pygments_lexer": "ipython3",
   "version": "3.6.1"
  }
 },
 "nbformat": 4,
 "nbformat_minor": 2
}
