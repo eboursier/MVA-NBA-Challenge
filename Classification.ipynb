{
 "cells": [
  {
   "cell_type": "code",
   "execution_count": 1,
   "metadata": {},
   "outputs": [],
   "source": [
    "import numpy as np\n",
    "import pandas as pd\n",
    "import matplotlib.pyplot as plt\n",
    "from sklearn import linear_model, ensemble, tree, neural_network, svm\n",
    "import sklearn.model_selection\n",
    "from preprocessing import *\n",
    "import xgboost as xgb\n",
    "from xgboost.sklearn import XGBClassifier  \n",
    "from public_accuracy import score_function\n",
    "from combine_classifiers import *"
   ]
  },
  {
   "cell_type": "code",
   "execution_count": 2,
   "metadata": {},
   "outputs": [
    {
     "name": "stderr",
     "output_type": "stream",
     "text": [
      "/home/etienne/anaconda3/lib/python3.6/site-packages/h5py/__init__.py:34: FutureWarning: Conversion of the second argument of issubdtype from `float` to `np.floating` is deprecated. In future, it will be treated as `np.float64 == np.dtype(float).type`.\n",
      "  from ._conv import register_converters as _register_converters\n",
      "Using TensorFlow backend.\n",
      "/home/etienne/anaconda3/lib/python3.6/importlib/_bootstrap.py:205: RuntimeWarning: compiletime version 3.5 of module 'tensorflow.python.framework.fast_tensor_util' does not match runtime version 3.6\n",
      "  return f(*args, **kwds)\n"
     ]
    }
   ],
   "source": [
    "from keras.preprocessing import sequence\n",
    "from keras.models import Sequential\n",
    "from keras.layers import Dense, Dropout, Activation\n",
    "from keras.layers import Embedding\n",
    "from keras.layers import Conv1D, GlobalMaxPooling1D, SimpleRNN, GRU"
   ]
  },
  {
   "cell_type": "code",
   "execution_count": 3,
   "metadata": {
    "collapsed": true
   },
   "outputs": [],
   "source": [
    "X_0 = pd.read_csv('./data/train_engineered.csv', index_col=0, skiprows=[1], nrows=None)\n",
    "Y_0 = pd.read_csv('./data/train_label_clean.csv', sep=\",\", index_col=0, nrows=None)"
   ]
  },
  {
   "cell_type": "code",
   "execution_count": 4,
   "metadata": {},
   "outputs": [
    {
     "name": "stdout",
     "output_type": "stream",
     "text": [
      "['assist', 'bad pass', 'block', 'defensive rebound', 'lost ball', 'miss', 'offensive foul', 'offensive rebound', 'score', 'steals', 'FG_guest', 'FG_home', 'off_reb_effi_guest', 'off_reb_effi_home', 'average_poss_guest', 'average_poss_home']\n"
     ]
    }
   ],
   "source": [
    "cols = X_0.columns.tolist()\n",
    "multi_index = [c.split('.')[0] for c in cols]\n",
    "multi_index = [(multi_index[i], i%1440) for i in range(len(multi_index))]\n",
    "stats = [multi_index[1440*i][0] for i in range(len(multi_index)//1440)]\n",
    "print(stats)"
   ]
  },
  {
   "cell_type": "code",
   "execution_count": 5,
   "metadata": {},
   "outputs": [],
   "source": [
    "X_0 = np.swapaxes(X_0.values.reshape(X_0.shape[0], -1, 1440), 1, 2)\n",
    "y = Y_0.values"
   ]
  },
  {
   "cell_type": "markdown",
   "metadata": {},
   "source": [
    "## Train XGBoost"
   ]
  },
  {
   "cell_type": "code",
   "execution_count": 6,
   "metadata": {},
   "outputs": [],
   "source": [
    "# sampling rate in seconds\n",
    "sampling1 = 120\n",
    "X = subsampling(X_0, sampling1).reshape(X_0.shape[0], -1)"
   ]
  },
  {
   "cell_type": "code",
   "execution_count": 7,
   "metadata": {},
   "outputs": [
    {
     "name": "stdout",
     "output_type": "stream",
     "text": [
      "(12499, 192)\n"
     ]
    }
   ],
   "source": [
    "print(X.shape)"
   ]
  },
  {
   "cell_type": "code",
   "execution_count": 8,
   "metadata": {},
   "outputs": [
    {
     "name": "stderr",
     "output_type": "stream",
     "text": [
      "/home/etienne/anaconda3/lib/python3.6/site-packages/sklearn/preprocessing/label.py:112: DataConversionWarning: A column-vector y was passed when a 1d array was expected. Please change the shape of y to (n_samples, ), for example using ravel().\n",
      "  y = column_or_1d(y, warn=True)\n",
      "/home/etienne/anaconda3/lib/python3.6/site-packages/sklearn/preprocessing/label.py:147: DataConversionWarning: A column-vector y was passed when a 1d array was expected. Please change the shape of y to (n_samples, ), for example using ravel().\n",
      "  y = column_or_1d(y, warn=True)\n",
      "/home/etienne/anaconda3/lib/python3.6/site-packages/sklearn/preprocessing/label.py:171: DeprecationWarning: The truth value of an empty array is ambiguous. Returning False, but in future this will result in an error. Use `array.size > 0` to check that an array is not empty.\n",
      "  if diff:\n",
      "/home/etienne/anaconda3/lib/python3.6/site-packages/sklearn/preprocessing/label.py:171: DeprecationWarning: The truth value of an empty array is ambiguous. Returning False, but in future this will result in an error. Use `array.size > 0` to check that an array is not empty.\n",
      "  if diff:\n",
      "/home/etienne/anaconda3/lib/python3.6/site-packages/sklearn/preprocessing/label.py:112: DataConversionWarning: A column-vector y was passed when a 1d array was expected. Please change the shape of y to (n_samples, ), for example using ravel().\n",
      "  y = column_or_1d(y, warn=True)\n",
      "/home/etienne/anaconda3/lib/python3.6/site-packages/sklearn/preprocessing/label.py:147: DataConversionWarning: A column-vector y was passed when a 1d array was expected. Please change the shape of y to (n_samples, ), for example using ravel().\n",
      "  y = column_or_1d(y, warn=True)\n",
      "/home/etienne/anaconda3/lib/python3.6/site-packages/sklearn/preprocessing/label.py:171: DeprecationWarning: The truth value of an empty array is ambiguous. Returning False, but in future this will result in an error. Use `array.size > 0` to check that an array is not empty.\n",
      "  if diff:\n",
      "/home/etienne/anaconda3/lib/python3.6/site-packages/sklearn/preprocessing/label.py:171: DeprecationWarning: The truth value of an empty array is ambiguous. Returning False, but in future this will result in an error. Use `array.size > 0` to check that an array is not empty.\n",
      "  if diff:\n",
      "/home/etienne/anaconda3/lib/python3.6/site-packages/sklearn/preprocessing/label.py:112: DataConversionWarning: A column-vector y was passed when a 1d array was expected. Please change the shape of y to (n_samples, ), for example using ravel().\n",
      "  y = column_or_1d(y, warn=True)\n",
      "/home/etienne/anaconda3/lib/python3.6/site-packages/sklearn/preprocessing/label.py:147: DataConversionWarning: A column-vector y was passed when a 1d array was expected. Please change the shape of y to (n_samples, ), for example using ravel().\n",
      "  y = column_or_1d(y, warn=True)\n",
      "/home/etienne/anaconda3/lib/python3.6/site-packages/sklearn/preprocessing/label.py:171: DeprecationWarning: The truth value of an empty array is ambiguous. Returning False, but in future this will result in an error. Use `array.size > 0` to check that an array is not empty.\n",
      "  if diff:\n",
      "/home/etienne/anaconda3/lib/python3.6/site-packages/sklearn/preprocessing/label.py:171: DeprecationWarning: The truth value of an empty array is ambiguous. Returning False, but in future this will result in an error. Use `array.size > 0` to check that an array is not empty.\n",
      "  if diff:\n",
      "/home/etienne/anaconda3/lib/python3.6/site-packages/sklearn/preprocessing/label.py:112: DataConversionWarning: A column-vector y was passed when a 1d array was expected. Please change the shape of y to (n_samples, ), for example using ravel().\n",
      "  y = column_or_1d(y, warn=True)\n",
      "/home/etienne/anaconda3/lib/python3.6/site-packages/sklearn/preprocessing/label.py:147: DataConversionWarning: A column-vector y was passed when a 1d array was expected. Please change the shape of y to (n_samples, ), for example using ravel().\n",
      "  y = column_or_1d(y, warn=True)\n"
     ]
    },
    {
     "name": "stdout",
     "output_type": "stream",
     "text": [
      "Accuracy on training set:  0.9653303833297775\n",
      "Accuracy on validation set:  0.7271779257362356\n"
     ]
    },
    {
     "name": "stderr",
     "output_type": "stream",
     "text": [
      "/home/etienne/anaconda3/lib/python3.6/site-packages/sklearn/preprocessing/label.py:171: DeprecationWarning: The truth value of an empty array is ambiguous. Returning False, but in future this will result in an error. Use `array.size > 0` to check that an array is not empty.\n",
      "  if diff:\n",
      "/home/etienne/anaconda3/lib/python3.6/site-packages/sklearn/preprocessing/label.py:171: DeprecationWarning: The truth value of an empty array is ambiguous. Returning False, but in future this will result in an error. Use `array.size > 0` to check that an array is not empty.\n",
      "  if diff:\n"
     ]
    }
   ],
   "source": [
    "# cross validation\n",
    "ncross = 4\n",
    "train_acc = []\n",
    "valid_acc = []\n",
    "\n",
    "group_kfold = sklearn.model_selection.KFold(n_splits=ncross, shuffle=True)\n",
    "group_kfold.get_n_splits(X)\n",
    "\n",
    "for train_index, valid_index in group_kfold.split(X):\n",
    "    X_train, X_valid = X[train_index], X[valid_index]\n",
    "    y_train, y_valid = y[train_index], y[valid_index]\n",
    "    classifier = XGBClassifier(max_depth=10, eta=0.1, silent=0, objective='binary:logistic', gamma=0, n_estimators=100,\n",
    "                               min_child_weight=0, max_delta_step=0, subsampling=1, reg_lambda=1, booster='dart',\n",
    "                               rate_drop=0.2)\n",
    "    classifier.fit(X_train, y_train)\n",
    "    \n",
    "    train_acc.append(classifier.score(X_train, y_train))\n",
    "    valid_acc.append(classifier.score(X_valid, y_valid))\n",
    "    \n",
    "print('Accuracy on training set: ', np.mean(train_acc))\n",
    "print('Accuracy on validation set: ', np.mean(valid_acc))"
   ]
  },
  {
   "cell_type": "code",
   "execution_count": 9,
   "metadata": {
    "collapsed": true
   },
   "outputs": [],
   "source": [
    "del X, X_train, y_train, X_valid, y_valid"
   ]
  },
  {
   "cell_type": "markdown",
   "metadata": {},
   "source": [
    "## Train RandomForest"
   ]
  },
  {
   "cell_type": "code",
   "execution_count": 10,
   "metadata": {
    "collapsed": true
   },
   "outputs": [],
   "source": [
    "# sampling rate in seconds\n",
    "sampling2 = 120\n",
    "X = subsampling(X_0, sampling2).reshape(X_0.shape[0], -1)"
   ]
  },
  {
   "cell_type": "code",
   "execution_count": 11,
   "metadata": {
    "collapsed": true
   },
   "outputs": [
    {
     "name": "stdout",
     "output_type": "stream",
     "text": [
      "(12499, 192)\n"
     ]
    }
   ],
   "source": [
    "print(X.shape)"
   ]
  },
  {
   "cell_type": "code",
   "execution_count": 12,
   "metadata": {},
   "outputs": [
    {
     "name": "stderr",
     "output_type": "stream",
     "text": [
      "/home/etienne/anaconda3/lib/python3.6/site-packages/ipykernel_launcher.py:14: DataConversionWarning: A column-vector y was passed when a 1d array was expected. Please change the shape of y to (n_samples,), for example using ravel().\n",
      "  \n",
      "/home/etienne/anaconda3/lib/python3.6/site-packages/ipykernel_launcher.py:14: DataConversionWarning: A column-vector y was passed when a 1d array was expected. Please change the shape of y to (n_samples,), for example using ravel().\n",
      "  \n",
      "/home/etienne/anaconda3/lib/python3.6/site-packages/ipykernel_launcher.py:14: DataConversionWarning: A column-vector y was passed when a 1d array was expected. Please change the shape of y to (n_samples,), for example using ravel().\n",
      "  \n",
      "/home/etienne/anaconda3/lib/python3.6/site-packages/ipykernel_launcher.py:14: DataConversionWarning: A column-vector y was passed when a 1d array was expected. Please change the shape of y to (n_samples,), for example using ravel().\n",
      "  \n"
     ]
    },
    {
     "name": "stdout",
     "output_type": "stream",
     "text": [
      "Accuracy on training set:  1.0\n",
      "Accuracy on validation set:  0.7397399487836107\n"
     ]
    }
   ],
   "source": [
    "# cross validation\n",
    "ncross = 4\n",
    "train_acc = []\n",
    "valid_acc = []\n",
    "\n",
    "group_kfold = sklearn.model_selection.KFold(n_splits=ncross, shuffle=True)\n",
    "group_kfold.get_n_splits(X)\n",
    "\n",
    "for train_index, valid_index in group_kfold.split(X):\n",
    "    X_train, X_valid = X[train_index], X[valid_index]\n",
    "    y_train, y_valid = y[train_index], y[valid_index]\n",
    "    classifier = ensemble.RandomForestClassifier(n_estimators=200, criterion='entropy',\n",
    "                                                 max_features=\"auto\", max_depth=None)\n",
    "    classifier.fit(X_train, y_train)\n",
    "    \n",
    "    train_acc.append(classifier.score(X_train, y_train))\n",
    "    valid_acc.append(classifier.score(X_valid, y_valid))\n",
    "    \n",
    "print('Accuracy on training set: ', np.mean(train_acc))\n",
    "print('Accuracy on validation set: ', np.mean(valid_acc))"
   ]
  },
  {
   "cell_type": "code",
   "execution_count": 13,
   "metadata": {
    "collapsed": true
   },
   "outputs": [],
   "source": [
    "del X, X_train, y_train, X_valid, y_valid"
   ]
  },
  {
   "cell_type": "markdown",
   "metadata": {},
   "source": [
    "## Train RNN"
   ]
  },
  {
   "cell_type": "code",
   "execution_count": 14,
   "metadata": {},
   "outputs": [],
   "source": [
    "def RNN (batch_size, epochs, input_dim, input_length):\n",
    "    \n",
    "    model = Sequential()\n",
    "    # we add a Convolution1D, which will learn filters\n",
    "    # word group filters of size filter_length:\n",
    "    model.add(SimpleRNN(30,\n",
    "                     activation='relu',\n",
    "                     input_dim=input_dim,\n",
    "                     input_length=input_length))\n",
    "    model.add(Dropout(0.2))\n",
    "\n",
    "    # We add a vanilla hidden layer:\n",
    "    model.add(Dense(25))\n",
    "    model.add(Dropout(0.2))\n",
    "    model.add(Activation('relu'))\n",
    "\n",
    "    model.add(Dense(25))\n",
    "    model.add(Dropout(0.2))\n",
    "    model.add(Activation('relu'))\n",
    "\n",
    "\n",
    "\n",
    "    # We project onto a single unit output layer, and squash it with a sigmoid:\n",
    "    model.add(Dense(1))\n",
    "    model.add(Activation('sigmoid'))\n",
    "\n",
    "    model.compile(loss='binary_crossentropy',\n",
    "                  optimizer='adam',\n",
    "                  metrics=['accuracy'])\n",
    "    \n",
    "    return model"
   ]
  },
  {
   "cell_type": "code",
   "execution_count": 15,
   "metadata": {
    "collapsed": true
   },
   "outputs": [],
   "source": [
    "# sampling rate in seconds\n",
    "sampling3 = 10\n",
    "X = subsampling(X_0, sampling3)"
   ]
  },
  {
   "cell_type": "code",
   "execution_count": 16,
   "metadata": {},
   "outputs": [
    {
     "name": "stdout",
     "output_type": "stream",
     "text": [
      "(12499, 144, 16)\n"
     ]
    }
   ],
   "source": [
    "print(X.shape)"
   ]
  },
  {
   "cell_type": "code",
   "execution_count": 17,
   "metadata": {
    "collapsed": true
   },
   "outputs": [
    {
     "name": "stderr",
     "output_type": "stream",
     "text": [
      "/home/etienne/anaconda3/lib/python3.6/site-packages/ipykernel_launcher.py:9: UserWarning: The `input_dim` and `input_length` arguments in recurrent layers are deprecated. Use `input_shape` instead.\n",
      "  if __name__ == '__main__':\n",
      "/home/etienne/anaconda3/lib/python3.6/site-packages/ipykernel_launcher.py:9: UserWarning: Update your `SimpleRNN` call to the Keras 2 API: `SimpleRNN(30, activation=\"relu\", input_shape=(144, 16))`\n",
      "  if __name__ == '__main__':\n"
     ]
    },
    {
     "name": "stdout",
     "output_type": "stream",
     "text": [
      "Accuracy on training set:  0.7240578792404524\n",
      "Accuracy on validation set:  0.7202975928297055\n"
     ]
    }
   ],
   "source": [
    "batch_size = 32\n",
    "epochs = 10\n",
    "\n",
    "# cross validation\n",
    "ncross = 4\n",
    "train_acc = []\n",
    "valid_acc = []\n",
    "\n",
    "group_kfold = sklearn.model_selection.KFold(n_splits=ncross, shuffle=True)\n",
    "group_kfold.get_n_splits(X)\n",
    "\n",
    "for train_index, valid_index in group_kfold.split(X):\n",
    "    X_train, X_valid = X[train_index], X[valid_index]\n",
    "    y_train, y_valid = y[train_index], y[valid_index]\n",
    "\n",
    "    model = RNN(batch_size, epochs, input_dim=len(stats), input_length=1440//sampling3)\n",
    "\n",
    "    model.fit(X_train, y_train,\n",
    "              batch_size=batch_size,\n",
    "              epochs=epochs,\n",
    "              verbose=False,\n",
    "              validation_data=(X_valid, y_valid))\n",
    "\n",
    "    tacc = np.mean(y_train.reshape(-1, 1) == model.predict_classes(X_train, verbose=False))\n",
    "    vacc = np.mean(y_valid.reshape(-1, 1) == model.predict_classes(X_valid, verbose=False))\n",
    "    train_acc.append(tacc)\n",
    "    valid_acc.append(vacc)\n",
    "    \n",
    "print('Accuracy on training set: ', np.mean(train_acc))\n",
    "print('Accuracy on validation set: ', np.mean(valid_acc))"
   ]
  },
  {
   "cell_type": "markdown",
   "metadata": {},
   "source": [
    "## Combine classifiers"
   ]
  },
  {
   "cell_type": "code",
   "execution_count": 18,
   "metadata": {},
   "outputs": [],
   "source": [
    "X_train, X_valid = X_0[train_index], X_0[valid_index]\n",
    "y_train, y_valid = y[train_index], y[valid_index]"
   ]
  },
  {
   "cell_type": "code",
   "execution_count": 19,
   "metadata": {},
   "outputs": [
    {
     "name": "stdout",
     "output_type": "stream",
     "text": [
      "(9375, 1440, 16)\n"
     ]
    }
   ],
   "source": [
    "print(X_train.shape)"
   ]
  },
  {
   "cell_type": "code",
   "execution_count": 20,
   "metadata": {},
   "outputs": [],
   "source": [
    "model1 = XGBClassifier(max_depth=10, eta=0.1, silent=0, objective='binary:logistic', gamma=0, n_estimators=100,\n",
    "                               min_child_weight=0, max_delta_step=0, subsampling=1, reg_lambda=1, booster='dart',\n",
    "                               rate_drop=0.2)"
   ]
  },
  {
   "cell_type": "code",
   "execution_count": 21,
   "metadata": {},
   "outputs": [],
   "source": [
    "model2 = ensemble.RandomForestClassifier(n_estimators=200, criterion='entropy',\n",
    "                                                 max_features=\"auto\", max_depth=None)"
   ]
  },
  {
   "cell_type": "code",
   "execution_count": 22,
   "metadata": {},
   "outputs": [
    {
     "name": "stderr",
     "output_type": "stream",
     "text": [
      "/home/etienne/anaconda3/lib/python3.6/site-packages/ipykernel_launcher.py:9: UserWarning: The `input_dim` and `input_length` arguments in recurrent layers are deprecated. Use `input_shape` instead.\n",
      "  if __name__ == '__main__':\n",
      "/home/etienne/anaconda3/lib/python3.6/site-packages/ipykernel_launcher.py:9: UserWarning: Update your `SimpleRNN` call to the Keras 2 API: `SimpleRNN(30, activation=\"relu\", input_shape=(144, 16))`\n",
      "  if __name__ == '__main__':\n"
     ]
    }
   ],
   "source": [
    "batch_size = 32\n",
    "epochs = 10\n",
    "model3 = RNN(batch_size, epochs, input_dim=len(stats), input_length=1440//sampling3)"
   ]
  },
  {
   "cell_type": "code",
   "execution_count": 25,
   "metadata": {},
   "outputs": [
    {
     "name": "stderr",
     "output_type": "stream",
     "text": [
      "/home/etienne/anaconda3/lib/python3.6/site-packages/sklearn/preprocessing/label.py:112: DataConversionWarning: A column-vector y was passed when a 1d array was expected. Please change the shape of y to (n_samples, ), for example using ravel().\n",
      "  y = column_or_1d(y, warn=True)\n",
      "/home/etienne/anaconda3/lib/python3.6/site-packages/sklearn/preprocessing/label.py:147: DataConversionWarning: A column-vector y was passed when a 1d array was expected. Please change the shape of y to (n_samples, ), for example using ravel().\n",
      "  y = column_or_1d(y, warn=True)\n",
      "/home/etienne/anaconda3/lib/python3.6/site-packages/ipykernel_launcher.py:65: DataConversionWarning: A column-vector y was passed when a 1d array was expected. Please change the shape of y to (n_samples,), for example using ravel().\n"
     ]
    },
    {
     "name": "stdout",
     "output_type": "stream",
     "text": [
      "704/938 [=====================>........] - ETA: 0s"
     ]
    },
    {
     "name": "stderr",
     "output_type": "stream",
     "text": [
      "/home/etienne/anaconda3/lib/python3.6/site-packages/sklearn/utils/validation.py:526: DataConversionWarning: A column-vector y was passed when a 1d array was expected. Please change the shape of y to (n_samples, ), for example using ravel().\n",
      "  y = column_or_1d(y, warn=True)\n"
     ]
    },
    {
     "name": "stdout",
     "output_type": "stream",
     "text": [
      "9088/9375 [============================>.] - ETA: 0sAccuracy on train: 0.95008\n",
      "Accuracy on validation: 0.7371959026888605\n"
     ]
    }
   ],
   "source": [
    "cclass = CombineClassifiers([(model1, 'XGBoost'), (model2, 'RandomForest'), (model3, 'RNN')], nsamples=[sampling1, sampling2, sampling3], combine='regression')\n",
    "cclass.fit(X_train, y_train, valid_ratio=0.1, batch_size=32, epochs=10)       \n",
    "acc = np.mean(cclass.predict(X_valid)==y_valid)\n",
    "train_acc = np.mean(cclass.predict(X_train)==y_train)\n",
    "print('Accuracy on train:', train_acc)\n",
    "print('Accuracy on validation:', acc)"
   ]
  },
  {
   "cell_type": "code",
   "execution_count": 26,
   "metadata": {},
   "outputs": [
    {
     "name": "stdout",
     "output_type": "stream",
     "text": [
      "9344/9375 [============================>.] - ETA: 0sAccuracy on train: 0.9376\n",
      "Accuracy on validation: 0.734314980793854\n"
     ]
    }
   ],
   "source": [
    "cclass.combine = 'median'\n",
    "acc = np.mean(cclass.predict(X_valid)==y_valid)\n",
    "train_acc = np.mean(cclass.predict(X_train)==y_train)\n",
    "print('Accuracy on train:', train_acc)\n",
    "print('Accuracy on validation:', acc)"
   ]
  },
  {
   "cell_type": "code",
   "execution_count": 27,
   "metadata": {},
   "outputs": [
    {
     "name": "stdout",
     "output_type": "stream",
     "text": [
      "9184/9375 [============================>.] - ETA: 0sAccuracy on train: 0.9336533333333333\n",
      "Accuracy on validation: 0.7285531370038413\n"
     ]
    }
   ],
   "source": [
    "cclass.combine = 'mean'\n",
    "acc = np.mean(cclass.predict(X_valid)==y_valid)\n",
    "train_acc = np.mean(cclass.predict(X_train)==y_train)\n",
    "print('Accuracy on train:', train_acc)\n",
    "print('Accuracy on validation:', acc)"
   ]
  },
  {
   "cell_type": "markdown",
   "metadata": {},
   "source": [
    "# Submit a classifier"
   ]
  },
  {
   "cell_type": "code",
   "execution_count": 28,
   "metadata": {},
   "outputs": [
    {
     "name": "stderr",
     "output_type": "stream",
     "text": [
      "/home/etienne/anaconda3/lib/python3.6/site-packages/ipykernel_launcher.py:5: DataConversionWarning: A column-vector y was passed when a 1d array was expected. Please change the shape of y to (n_samples,), for example using ravel().\n",
      "  \"\"\"\n"
     ]
    },
    {
     "data": {
      "text/plain": [
       "RandomForestClassifier(bootstrap=True, class_weight=None, criterion='entropy',\n",
       "            max_depth=None, max_features='auto', max_leaf_nodes=None,\n",
       "            min_impurity_split=1e-07, min_samples_leaf=1,\n",
       "            min_samples_split=2, min_weight_fraction_leaf=0.0,\n",
       "            n_estimators=200, n_jobs=1, oob_score=False, random_state=None,\n",
       "            verbose=0, warm_start=False)"
      ]
     },
     "execution_count": 28,
     "metadata": {},
     "output_type": "execute_result"
    }
   ],
   "source": [
    "classifier = ensemble.RandomForestClassifier(n_estimators=200, criterion='entropy',\n",
    "                                                 max_features=\"auto\", max_depth=None)\n",
    "sampling = 60\n",
    "X = subsampling(X_0, sampling).reshape(X_0.shape[0], -1)\n",
    "classifier.fit(X, y)"
   ]
  },
  {
   "cell_type": "code",
   "execution_count": 29,
   "metadata": {
    "collapsed": true
   },
   "outputs": [],
   "source": [
    "test = pd.read_csv('./data/test_engineered.csv', index_col=0, skiprows=[1], nrows=10)"
   ]
  },
  {
   "cell_type": "code",
   "execution_count": 30,
   "metadata": {
    "collapsed": true
   },
   "outputs": [],
   "source": [
    "X_test = np.swapaxes(test.values.reshape(test.shape[0], -1, 1440), 1, 2)\n",
    "X_test = subsampling(X_test, sampling).reshape(X_test.shape[0], -1)"
   ]
  },
  {
   "cell_type": "code",
   "execution_count": 31,
   "metadata": {},
   "outputs": [
    {
     "name": "stdout",
     "output_type": "stream",
     "text": [
      "(10, 384)\n"
     ]
    }
   ],
   "source": [
    "print(X_test.shape)"
   ]
  },
  {
   "cell_type": "code",
   "execution_count": 32,
   "metadata": {
    "collapsed": true
   },
   "outputs": [],
   "source": [
    "y_test = classifier.predict(X_test)"
   ]
  },
  {
   "cell_type": "code",
   "execution_count": 35,
   "metadata": {
    "collapsed": true
   },
   "outputs": [],
   "source": [
    "test_label = pd.DataFrame(y_test, index=test.index, columns=['label'])"
   ]
  },
  {
   "cell_type": "code",
   "execution_count": 36,
   "metadata": {
    "collapsed": true
   },
   "outputs": [],
   "source": [
    "test_label.to_csv('tests/predictions.csv', sep=';')"
   ]
  },
  {
   "cell_type": "code",
   "execution_count": null,
   "metadata": {},
   "outputs": [],
   "source": []
  }
 ],
 "metadata": {
  "kernelspec": {
   "display_name": "Python 3",
   "language": "python",
   "name": "python3"
  },
  "language_info": {
   "codemirror_mode": {
    "name": "ipython",
    "version": 3
   },
   "file_extension": ".py",
   "mimetype": "text/x-python",
   "name": "python",
   "nbconvert_exporter": "python",
   "pygments_lexer": "ipython3",
   "version": "3.6.1"
  }
 },
 "nbformat": 4,
 "nbformat_minor": 2
}
